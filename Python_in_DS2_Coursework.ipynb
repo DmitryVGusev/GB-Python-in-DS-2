{
 "cells": [
  {
   "cell_type": "markdown",
   "metadata": {},
   "source": [
    "# Python для DataScience2. Курсовая работа"
   ]
  },
  {
   "cell_type": "code",
   "execution_count": 10,
   "metadata": {
    "ExecuteTime": {
     "end_time": "2019-11-20T16:23:31.700137Z",
     "start_time": "2019-11-20T16:23:31.697701Z"
    }
   },
   "outputs": [],
   "source": [
    "import pandas as pd\n",
    "import seaborn as sns"
   ]
  },
  {
   "cell_type": "code",
   "execution_count": 11,
   "metadata": {
    "ExecuteTime": {
     "end_time": "2019-11-20T16:23:31.826685Z",
     "start_time": "2019-11-20T16:23:31.704119Z"
    }
   },
   "outputs": [
    {
     "name": "stdout",
     "output_type": "stream",
     "text": [
      "\u001b[34m2\u001b[m\u001b[m                              \u001b[31mcourse_project_test.csv\u001b[m\u001b[m\r\n",
      "\u001b[34m3\u001b[m\u001b[m                              \u001b[31mcourse_project_train.csv\u001b[m\u001b[m\r\n",
      "\u001b[34m4\u001b[m\u001b[m                              just_4_fun.csv\r\n",
      "4-20191115T130905Z-001.zip     \u001b[34mlesson_1\u001b[m\u001b[m\r\n",
      "DGusev_predictions.csv         webinar_1.MP4\r\n",
      "Python_in_DS2_Coursework.ipynb webinar_2.MP4\r\n",
      "Untitled.ipynb                 webinar_3.MP4\r\n",
      "\u001b[34mcatboost_info\u001b[m\u001b[m\r\n"
     ]
    }
   ],
   "source": [
    "!ls"
   ]
  },
  {
   "cell_type": "markdown",
   "metadata": {},
   "source": [
    "Загрузим тренировочный датасет"
   ]
  },
  {
   "cell_type": "code",
   "execution_count": 12,
   "metadata": {
    "ExecuteTime": {
     "end_time": "2019-11-20T16:23:31.852361Z",
     "start_time": "2019-11-20T16:23:31.828651Z"
    }
   },
   "outputs": [],
   "source": [
    "data = pd.read_csv('course_project_train.csv')"
   ]
  },
  {
   "cell_type": "code",
   "execution_count": 5,
   "metadata": {
    "ExecuteTime": {
     "end_time": "2019-11-18T20:09:45.186368Z",
     "start_time": "2019-11-18T20:09:45.164765Z"
    },
    "deletable": false,
    "editable": false,
    "run_control": {
     "frozen": true
    },
    "scrolled": false
   },
   "outputs": [
    {
     "name": "stdout",
     "output_type": "stream",
     "text": [
      "<class 'pandas.core.frame.DataFrame'>\n",
      "RangeIndex: 7500 entries, 0 to 7499\n",
      "Data columns (total 17 columns):\n",
      "Home Ownership                  7500 non-null object\n",
      "Annual Income                   5943 non-null float64\n",
      "Years in current job            7129 non-null object\n",
      "Tax Liens                       7500 non-null float64\n",
      "Number of Open Accounts         7500 non-null float64\n",
      "Years of Credit History         7500 non-null float64\n",
      "Maximum Open Credit             7500 non-null float64\n",
      "Number of Credit Problems       7500 non-null float64\n",
      "Months since last delinquent    3419 non-null float64\n",
      "Bankruptcies                    7486 non-null float64\n",
      "Purpose                         7500 non-null object\n",
      "Term                            7500 non-null object\n",
      "Current Loan Amount             7500 non-null float64\n",
      "Current Credit Balance          7500 non-null float64\n",
      "Monthly Debt                    7500 non-null float64\n",
      "Credit Score                    5943 non-null float64\n",
      "Credit Default                  7500 non-null int64\n",
      "dtypes: float64(12), int64(1), object(4)\n",
      "memory usage: 996.2+ KB\n"
     ]
    }
   ],
   "source": [
    "data.info()"
   ]
  },
  {
   "cell_type": "code",
   "execution_count": 15,
   "metadata": {
    "ExecuteTime": {
     "end_time": "2019-11-18T20:29:08.423605Z",
     "start_time": "2019-11-18T20:29:08.418698Z"
    },
    "deletable": false,
    "editable": false,
    "run_control": {
     "frozen": true
    },
    "scrolled": true
   },
   "outputs": [
    {
     "data": {
      "text/plain": [
       "Index(['Home Ownership', 'Annual Income', 'Years in current job', 'Tax Liens',\n",
       "       'Number of Open Accounts', 'Years of Credit History',\n",
       "       'Maximum Open Credit', 'Number of Credit Problems',\n",
       "       'Months since last delinquent', 'Bankruptcies', 'Purpose', 'Term',\n",
       "       'Current Loan Amount', 'Current Credit Balance', 'Monthly Debt',\n",
       "       'Credit Score', 'Credit Default'],\n",
       "      dtype='object')"
      ]
     },
     "execution_count": 15,
     "metadata": {},
     "output_type": "execute_result"
    }
   ],
   "source": [
    "data.columns"
   ]
  },
  {
   "cell_type": "markdown",
   "metadata": {},
   "source": [
    "## Очистка датасета"
   ]
  },
  {
   "cell_type": "markdown",
   "metadata": {},
   "source": [
    "### Посмотрим на пустые признаки"
   ]
  },
  {
   "cell_type": "code",
   "execution_count": 4,
   "metadata": {
    "ExecuteTime": {
     "end_time": "2019-11-19T13:09:20.976596Z",
     "start_time": "2019-11-19T13:09:20.961764Z"
    },
    "deletable": false,
    "editable": false,
    "run_control": {
     "frozen": true
    },
    "scrolled": true
   },
   "outputs": [
    {
     "name": "stdout",
     "output_type": "stream",
     "text": [
      "<class 'pandas.core.frame.DataFrame'>\n",
      "RangeIndex: 7500 entries, 0 to 7499\n",
      "Data columns (total 17 columns):\n",
      "Home Ownership                  7500 non-null object\n",
      "Annual Income                   5943 non-null float64\n",
      "Years in current job            7129 non-null object\n",
      "Tax Liens                       7500 non-null float64\n",
      "Number of Open Accounts         7500 non-null float64\n",
      "Years of Credit History         7500 non-null float64\n",
      "Maximum Open Credit             7500 non-null float64\n",
      "Number of Credit Problems       7500 non-null float64\n",
      "Months since last delinquent    3419 non-null float64\n",
      "Bankruptcies                    7486 non-null float64\n",
      "Purpose                         7500 non-null object\n",
      "Term                            7500 non-null object\n",
      "Current Loan Amount             7500 non-null float64\n",
      "Current Credit Balance          7500 non-null float64\n",
      "Monthly Debt                    7500 non-null float64\n",
      "Credit Score                    5943 non-null float64\n",
      "Credit Default                  7500 non-null int64\n",
      "dtypes: float64(12), int64(1), object(4)\n",
      "memory usage: 996.2+ KB\n"
     ]
    }
   ],
   "source": [
    "data.info()"
   ]
  },
  {
   "cell_type": "code",
   "execution_count": 5,
   "metadata": {
    "ExecuteTime": {
     "end_time": "2019-11-19T13:09:21.375969Z",
     "start_time": "2019-11-19T13:09:21.370739Z"
    },
    "deletable": false,
    "editable": false,
    "run_control": {
     "frozen": true
    },
    "scrolled": true
   },
   "outputs": [
    {
     "name": "stdout",
     "output_type": "stream",
     "text": [
      "Home Ownership\n",
      "Annual Income\n",
      "Years in current job\n",
      "Tax Liens\n",
      "Number of Open Accounts\n",
      "Years of Credit History\n",
      "Maximum Open Credit\n",
      "Number of Credit Problems\n",
      "Months since last delinquent\n",
      "Bankruptcies\n",
      "Purpose\n",
      "Term\n",
      "Current Loan Amount\n",
      "Current Credit Balance\n",
      "Monthly Debt\n",
      "Credit Score\n",
      "Credit Default\n"
     ]
    }
   ],
   "source": [
    "[print(x) for x in data.columns];"
   ]
  },
  {
   "cell_type": "markdown",
   "metadata": {
    "ExecuteTime": {
     "end_time": "2019-11-19T09:27:25.447693Z",
     "start_time": "2019-11-19T09:27:25.445245Z"
    }
   },
   "source": [
    "#### Home Ownership"
   ]
  },
  {
   "cell_type": "code",
   "execution_count": 63,
   "metadata": {
    "ExecuteTime": {
     "end_time": "2019-11-19T13:43:18.301122Z",
     "start_time": "2019-11-19T13:43:18.293677Z"
    },
    "deletable": false,
    "editable": false,
    "run_control": {
     "frozen": true
    }
   },
   "outputs": [
    {
     "data": {
      "text/plain": [
       "Home Mortgage    3649\n",
       "Rent             3204\n",
       "Own Home          647\n",
       "Name: Home Ownership, dtype: int64"
      ]
     },
     "execution_count": 63,
     "metadata": {},
     "output_type": "execute_result"
    }
   ],
   "source": [
    "data['Home Ownership'].value_counts()"
   ]
  },
  {
   "cell_type": "markdown",
   "metadata": {},
   "source": [
    "По всей видимости, `Home Mortgage` и `Have Mortgage` тождественны, а значит сведем их в один признак"
   ]
  },
  {
   "cell_type": "code",
   "execution_count": 13,
   "metadata": {
    "ExecuteTime": {
     "end_time": "2019-11-20T16:23:31.860500Z",
     "start_time": "2019-11-20T16:23:31.854433Z"
    }
   },
   "outputs": [],
   "source": [
    "data.loc[data['Home Ownership'] == 'Have Mortgage', 'Home Ownership'] = 'Home Mortgage'"
   ]
  },
  {
   "cell_type": "code",
   "execution_count": 14,
   "metadata": {
    "ExecuteTime": {
     "end_time": "2019-11-20T16:23:31.868804Z",
     "start_time": "2019-11-20T16:23:31.862277Z"
    }
   },
   "outputs": [
    {
     "data": {
      "text/plain": [
       "Home Mortgage    3649\n",
       "Rent             3204\n",
       "Own Home          647\n",
       "Name: Home Ownership, dtype: int64"
      ]
     },
     "execution_count": 14,
     "metadata": {},
     "output_type": "execute_result"
    }
   ],
   "source": [
    "data['Home Ownership'].value_counts()"
   ]
  },
  {
   "cell_type": "markdown",
   "metadata": {},
   "source": [
    "#### Annual Income"
   ]
  },
  {
   "cell_type": "code",
   "execution_count": 41,
   "metadata": {
    "ExecuteTime": {
     "end_time": "2019-11-19T09:42:55.085756Z",
     "start_time": "2019-11-19T09:42:55.076110Z"
    },
    "deletable": false,
    "editable": false,
    "run_control": {
     "frozen": true
    }
   },
   "outputs": [
    {
     "data": {
      "text/plain": [
       "count        5943\n",
       "mean      1366392\n",
       "std        845339\n",
       "min        164597\n",
       "25%        844341\n",
       "50%       1168386\n",
       "75%       1640137\n",
       "max      10149344\n",
       "Name: Annual Income, dtype: object"
      ]
     },
     "execution_count": 41,
     "metadata": {},
     "output_type": "execute_result"
    }
   ],
   "source": [
    "data['Annual Income'].describe().apply(\"{0:.0f}\".format)"
   ]
  },
  {
   "cell_type": "code",
   "execution_count": 45,
   "metadata": {
    "ExecuteTime": {
     "end_time": "2019-11-19T09:44:10.344352Z",
     "start_time": "2019-11-19T09:44:10.337765Z"
    },
    "deletable": false,
    "editable": false,
    "run_control": {
     "frozen": true
    }
   },
   "outputs": [
    {
     "data": {
      "text/plain": [
       "0     969475.0\n",
       "1    1043651.0\n",
       "2    1058376.0\n",
       "3    1161660.0\n",
       "4    1338113.0\n",
       "dtype: float64"
      ]
     },
     "execution_count": 45,
     "metadata": {},
     "output_type": "execute_result"
    }
   ],
   "source": [
    "data['Annual Income'].mode()"
   ]
  },
  {
   "cell_type": "code",
   "execution_count": 47,
   "metadata": {
    "ExecuteTime": {
     "end_time": "2019-11-19T09:46:04.638326Z",
     "start_time": "2019-11-19T09:46:04.476290Z"
    },
    "deletable": false,
    "editable": false,
    "run_control": {
     "frozen": true
    },
    "scrolled": true
   },
   "outputs": [
    {
     "data": {
      "image/png": "[encoded data removed]",
      "text/plain": [
       "<Figure size 432x288 with 1 Axes>"
      ]
     },
     "metadata": {
      "needs_background": "light"
     },
     "output_type": "display_data"
    }
   ],
   "source": [
    "data['Annual Income'].hist();"
   ]
  },
  {
   "cell_type": "markdown",
   "metadata": {},
   "source": [
    "#### Years in current job"
   ]
  },
  {
   "cell_type": "code",
   "execution_count": 37,
   "metadata": {
    "ExecuteTime": {
     "end_time": "2019-11-19T09:39:49.455319Z",
     "start_time": "2019-11-19T09:39:49.448002Z"
    },
    "deletable": false,
    "editable": false,
    "run_control": {
     "frozen": true
    }
   },
   "outputs": [
    {
     "data": {
      "text/plain": [
       "10+ years    2332\n",
       "2 years       705\n",
       "3 years       620\n",
       "< 1 year      563\n",
       "5 years       516\n",
       "1 year        504\n",
       "4 years       469\n",
       "6 years       426\n",
       "7 years       396\n",
       "8 years       339\n",
       "9 years       259\n",
       "Name: Years in current job, dtype: int64"
      ]
     },
     "execution_count": 37,
     "metadata": {},
     "output_type": "execute_result"
    }
   ],
   "source": [
    "data['Years in current job'].value_counts()"
   ]
  },
  {
   "cell_type": "markdown",
   "metadata": {
    "deletable": false,
    "editable": false,
    "run_control": {
     "frozen": true
    }
   },
   "source": [
    "Этот признак нельзя перевести в некотигорийный.\n",
    "\n",
    "Далее, рассмотрим долю пропущенных значений в признаке."
   ]
  },
  {
   "cell_type": "code",
   "execution_count": 58,
   "metadata": {
    "ExecuteTime": {
     "end_time": "2019-11-19T10:00:27.805123Z",
     "start_time": "2019-11-19T10:00:27.799272Z"
    },
    "deletable": false,
    "editable": false,
    "run_control": {
     "frozen": true
    },
    "scrolled": true
   },
   "outputs": [
    {
     "data": {
      "text/plain": [
       "0.049466666666666666"
      ]
     },
     "execution_count": 58,
     "metadata": {},
     "output_type": "execute_result"
    }
   ],
   "source": [
    "data['Years in current job'].isna().sum() / data.shape[0]"
   ]
  },
  {
   "cell_type": "markdown",
   "metadata": {},
   "source": [
    "Получается менее 5%. То есть, можно заполнить среднем или модой без сильной потери точности"
   ]
  },
  {
   "cell_type": "code",
   "execution_count": 129,
   "metadata": {
    "ExecuteTime": {
     "end_time": "2019-11-20T15:48:16.725167Z",
     "start_time": "2019-11-20T15:48:16.720423Z"
    },
    "deletable": false,
    "editable": false,
    "run_control": {
     "frozen": true
    }
   },
   "outputs": [],
   "source": [
    "data['Years in current job'].fillna('10+ years', inplace=True)"
   ]
  },
  {
   "cell_type": "code",
   "execution_count": 15,
   "metadata": {
    "ExecuteTime": {
     "end_time": "2019-11-20T16:23:31.877290Z",
     "start_time": "2019-11-20T16:23:31.870901Z"
    }
   },
   "outputs": [],
   "source": [
    "def convert_years(df):\n",
    "    df['Years in current job'] = df['Years in current job'].fillna(0)\n",
    "    \n",
    "    for y in df['Years in current job'].unique():\n",
    "        if y in [0, '< 1 year']:\n",
    "            df.loc[df['Years in current job'] == y, 'Num Years in current job'] = 0\n",
    "        elif y == '10+ years':\n",
    "            df.loc[df['Years in current job'] == y, 'Num Years in current job'] = 20\n",
    "        else:\n",
    "            df.loc[df['Years in current job'] == y, 'Num Years in current job'] = int(y.split(' ')[0])\n",
    "    return df.drop(columns=['Years in current job'])"
   ]
  },
  {
   "cell_type": "code",
   "execution_count": 16,
   "metadata": {
    "ExecuteTime": {
     "end_time": "2019-11-20T16:23:31.914486Z",
     "start_time": "2019-11-20T16:23:31.879633Z"
    }
   },
   "outputs": [],
   "source": [
    "data = convert_years(data)"
   ]
  },
  {
   "cell_type": "markdown",
   "metadata": {},
   "source": [
    "#### Maximum Open Credit"
   ]
  },
  {
   "cell_type": "code",
   "execution_count": 71,
   "metadata": {
    "ExecuteTime": {
     "end_time": "2019-11-19T10:08:57.536164Z",
     "start_time": "2019-11-19T10:08:57.527648Z"
    },
    "deletable": false,
    "editable": false,
    "run_control": {
     "frozen": true
    },
    "scrolled": true
   },
   "outputs": [
    {
     "data": {
      "text/plain": [
       "count          7500\n",
       "mean         945154\n",
       "std        16026217\n",
       "min               0\n",
       "25%          279230\n",
       "50%          478159\n",
       "75%          793502\n",
       "max      1304726170\n",
       "Name: Maximum Open Credit, dtype: object"
      ]
     },
     "execution_count": 71,
     "metadata": {},
     "output_type": "execute_result"
    }
   ],
   "source": [
    "data['Maximum Open Credit'].describe().apply(\"{0:.0f}\".format)"
   ]
  },
  {
   "cell_type": "markdown",
   "metadata": {
    "deletable": false,
    "editable": false,
    "run_control": {
     "frozen": true
    }
   },
   "source": [
    "Надо посмотреть зависимость этого признака от других некатегориальных"
   ]
  },
  {
   "cell_type": "code",
   "execution_count": 103,
   "metadata": {
    "ExecuteTime": {
     "end_time": "2019-11-19T10:40:02.493253Z",
     "start_time": "2019-11-19T10:40:02.479537Z"
    },
    "deletable": false,
    "editable": false,
    "run_control": {
     "frozen": true
    },
    "scrolled": true
   },
   "outputs": [
    {
     "data": {
      "text/plain": [
       "Annual Income                   0.062218\n",
       "Tax Liens                      -0.002410\n",
       "Number of Open Accounts         0.023897\n",
       "Years of Credit History         0.029247\n",
       "Maximum Open Credit             1.000000\n",
       "Number of Credit Problems      -0.004750\n",
       "Months since last delinquent   -0.003849\n",
       "Bankruptcies                   -0.011650\n",
       "Current Loan Amount            -0.002334\n",
       "Current Credit Balance          0.088090\n",
       "Monthly Debt                    0.010197\n",
       "Credit Score                   -0.009136\n",
       "Credit Default                 -0.014275\n",
       "Name: Maximum Open Credit, dtype: float64"
      ]
     },
     "execution_count": 103,
     "metadata": {},
     "output_type": "execute_result"
    }
   ],
   "source": [
    "data.select_dtypes(exclude='object').corr()['Maximum Open Credit']"
   ]
  },
  {
   "cell_type": "markdown",
   "metadata": {},
   "source": [
    "Оставим пока как есть"
   ]
  },
  {
   "cell_type": "markdown",
   "metadata": {},
   "source": [
    "#### Number of Credit Problems"
   ]
  },
  {
   "cell_type": "code",
   "execution_count": 109,
   "metadata": {
    "ExecuteTime": {
     "end_time": "2019-11-19T10:44:02.315217Z",
     "start_time": "2019-11-19T10:44:02.307147Z"
    },
    "deletable": false,
    "editable": false,
    "run_control": {
     "frozen": true
    },
    "scrolled": true
   },
   "outputs": [
    {
     "data": {
      "text/plain": [
       "count    7500.000000\n",
       "mean        0.170000\n",
       "std         0.498598\n",
       "min         0.000000\n",
       "25%         0.000000\n",
       "50%         0.000000\n",
       "75%         0.000000\n",
       "max         7.000000\n",
       "Name: Number of Credit Problems, dtype: float64"
      ]
     },
     "execution_count": 109,
     "metadata": {},
     "output_type": "execute_result"
    }
   ],
   "source": [
    "data['Number of Credit Problems'].describe()"
   ]
  },
  {
   "cell_type": "markdown",
   "metadata": {},
   "source": [
    "Признак похож на нормальный, без выбросов"
   ]
  },
  {
   "cell_type": "markdown",
   "metadata": {},
   "source": [
    "#### Months since last delinquent"
   ]
  },
  {
   "cell_type": "code",
   "execution_count": 112,
   "metadata": {
    "ExecuteTime": {
     "end_time": "2019-11-19T10:45:17.052377Z",
     "start_time": "2019-11-19T10:45:17.047004Z"
    },
    "deletable": false,
    "editable": false,
    "run_control": {
     "frozen": true
    }
   },
   "outputs": [
    {
     "data": {
      "text/plain": [
       "4081"
      ]
     },
     "execution_count": 112,
     "metadata": {},
     "output_type": "execute_result"
    }
   ],
   "source": [
    "data['Months since last delinquent'].isna().sum()"
   ]
  },
  {
   "cell_type": "markdown",
   "metadata": {},
   "source": [
    "Признак более чем на 50% пуст. Лучше пока его не брать в расчет"
   ]
  },
  {
   "cell_type": "code",
   "execution_count": 17,
   "metadata": {
    "ExecuteTime": {
     "end_time": "2019-11-20T16:23:31.920087Z",
     "start_time": "2019-11-20T16:23:31.916074Z"
    }
   },
   "outputs": [],
   "source": [
    "data.drop(columns=['Months since last delinquent'], inplace=True)"
   ]
  },
  {
   "cell_type": "markdown",
   "metadata": {},
   "source": [
    "#### Bankruptcies"
   ]
  },
  {
   "cell_type": "code",
   "execution_count": 8,
   "metadata": {
    "ExecuteTime": {
     "end_time": "2019-11-19T13:13:07.386146Z",
     "start_time": "2019-11-19T13:13:07.372256Z"
    },
    "deletable": false,
    "editable": false,
    "run_control": {
     "frozen": true
    }
   },
   "outputs": [
    {
     "data": {
      "text/plain": [
       "count    7486.000000\n",
       "mean        0.117152\n",
       "std         0.347192\n",
       "min         0.000000\n",
       "25%         0.000000\n",
       "50%         0.000000\n",
       "75%         0.000000\n",
       "max         4.000000\n",
       "Name: Bankruptcies, dtype: float64"
      ]
     },
     "execution_count": 8,
     "metadata": {},
     "output_type": "execute_result"
    }
   ],
   "source": [
    "data['Bankruptcies'].describe()"
   ]
  },
  {
   "cell_type": "markdown",
   "metadata": {},
   "source": [
    "заполним пустые значения нулем"
   ]
  },
  {
   "cell_type": "code",
   "execution_count": 18,
   "metadata": {
    "ExecuteTime": {
     "end_time": "2019-11-20T16:23:31.924598Z",
     "start_time": "2019-11-20T16:23:31.921491Z"
    }
   },
   "outputs": [],
   "source": [
    "data['Bankruptcies'].fillna(0, inplace=True)"
   ]
  },
  {
   "cell_type": "code",
   "execution_count": 19,
   "metadata": {
    "ExecuteTime": {
     "end_time": "2019-11-20T16:23:31.937412Z",
     "start_time": "2019-11-20T16:23:31.927789Z"
    }
   },
   "outputs": [
    {
     "data": {
      "text/plain": [
       "count    7500.000000\n",
       "mean        0.116933\n",
       "std         0.346904\n",
       "min         0.000000\n",
       "25%         0.000000\n",
       "50%         0.000000\n",
       "75%         0.000000\n",
       "max         4.000000\n",
       "Name: Bankruptcies, dtype: float64"
      ]
     },
     "execution_count": 19,
     "metadata": {},
     "output_type": "execute_result"
    }
   ],
   "source": [
    "data['Bankruptcies'].describe()"
   ]
  },
  {
   "cell_type": "markdown",
   "metadata": {},
   "source": [
    "#### Purpose"
   ]
  },
  {
   "cell_type": "code",
   "execution_count": 20,
   "metadata": {
    "ExecuteTime": {
     "end_time": "2019-11-20T16:23:31.945737Z",
     "start_time": "2019-11-20T16:23:31.939572Z"
    }
   },
   "outputs": [
    {
     "data": {
      "text/plain": [
       "debt consolidation      5944\n",
       "other                    665\n",
       "home improvements        412\n",
       "business loan            129\n",
       "buy a car                 96\n",
       "medical bills             71\n",
       "major purchase            40\n",
       "take a trip               37\n",
       "buy house                 34\n",
       "small business            26\n",
       "wedding                   15\n",
       "moving                    11\n",
       "educational expenses      10\n",
       "vacation                   8\n",
       "renewable energy           2\n",
       "Name: Purpose, dtype: int64"
      ]
     },
     "execution_count": 20,
     "metadata": {},
     "output_type": "execute_result"
    }
   ],
   "source": [
    "data['Purpose'].value_counts()"
   ]
  },
  {
   "cell_type": "markdown",
   "metadata": {},
   "source": [
    "Пропущенных значений нет"
   ]
  },
  {
   "cell_type": "code",
   "execution_count": 21,
   "metadata": {
    "ExecuteTime": {
     "end_time": "2019-11-20T16:23:31.949738Z",
     "start_time": "2019-11-20T16:23:31.947242Z"
    }
   },
   "outputs": [],
   "source": [
    "# pd.get_dummies(data).columns"
   ]
  },
  {
   "cell_type": "markdown",
   "metadata": {},
   "source": [
    "#### Term"
   ]
  },
  {
   "cell_type": "code",
   "execution_count": 22,
   "metadata": {
    "ExecuteTime": {
     "end_time": "2019-11-20T16:23:31.958226Z",
     "start_time": "2019-11-20T16:23:31.951773Z"
    }
   },
   "outputs": [
    {
     "data": {
      "text/plain": [
       "Short Term    5556\n",
       "Long Term     1944\n",
       "Name: Term, dtype: int64"
      ]
     },
     "execution_count": 22,
     "metadata": {},
     "output_type": "execute_result"
    }
   ],
   "source": [
    "data['Term'].value_counts()"
   ]
  },
  {
   "cell_type": "markdown",
   "metadata": {},
   "source": [
    "Пропущенных значений также нет"
   ]
  },
  {
   "cell_type": "markdown",
   "metadata": {},
   "source": [
    "#### Current Loan Amount"
   ]
  },
  {
   "cell_type": "code",
   "execution_count": 23,
   "metadata": {
    "ExecuteTime": {
     "end_time": "2019-11-20T16:23:31.968417Z",
     "start_time": "2019-11-20T16:23:31.960436Z"
    }
   },
   "outputs": [
    {
     "data": {
      "text/plain": [
       "count        7500\n",
       "mean     11873177\n",
       "std      31926123\n",
       "min         11242\n",
       "25%        180169\n",
       "50%        309573\n",
       "75%        519882\n",
       "max      99999999\n",
       "Name: Current Loan Amount, dtype: object"
      ]
     },
     "execution_count": 23,
     "metadata": {},
     "output_type": "execute_result"
    }
   ],
   "source": [
    "data['Current Loan Amount'].describe().apply(\"{0:.0f}\".format)"
   ]
  },
  {
   "cell_type": "markdown",
   "metadata": {},
   "source": [
    "Явно есть выбросы."
   ]
  },
  {
   "cell_type": "code",
   "execution_count": 24,
   "metadata": {
    "ExecuteTime": {
     "end_time": "2019-11-20T16:23:31.977646Z",
     "start_time": "2019-11-20T16:23:31.970327Z"
    }
   },
   "outputs": [
    {
     "data": {
      "text/plain": [
       "0     89298.0\n",
       "1    218064.0\n",
       "dtype: float64"
      ]
     },
     "execution_count": 24,
     "metadata": {},
     "output_type": "execute_result"
    }
   ],
   "source": [
    "data[data['Current Loan Amount'] < 99999999.0]['Current Loan Amount'].mode()"
   ]
  },
  {
   "cell_type": "code",
   "execution_count": 25,
   "metadata": {
    "ExecuteTime": {
     "end_time": "2019-11-20T16:23:31.981578Z",
     "start_time": "2019-11-20T16:23:31.979186Z"
    }
   },
   "outputs": [],
   "source": [
    "# mean_current_load_amount = data[data['Current Loan Amount'] < 99999999.0]['Current Loan Amount'].mean()"
   ]
  },
  {
   "cell_type": "code",
   "execution_count": 26,
   "metadata": {
    "ExecuteTime": {
     "end_time": "2019-11-20T16:23:31.985337Z",
     "start_time": "2019-11-20T16:23:31.983128Z"
    }
   },
   "outputs": [],
   "source": [
    "# data.loc[data['Current Loan Amount'] >= 99999999.0, 'Current Loan Amount'] = mean_current_load_amount"
   ]
  },
  {
   "cell_type": "markdown",
   "metadata": {},
   "source": [
    "#### Current Credit Balance"
   ]
  },
  {
   "cell_type": "code",
   "execution_count": 27,
   "metadata": {
    "ExecuteTime": {
     "end_time": "2019-11-20T16:23:31.993881Z",
     "start_time": "2019-11-20T16:23:31.986767Z"
    }
   },
   "outputs": [
    {
     "data": {
      "text/plain": [
       "count        7500\n",
       "mean     11873177\n",
       "std      31926123\n",
       "min         11242\n",
       "25%        180169\n",
       "50%        309573\n",
       "75%        519882\n",
       "max      99999999\n",
       "Name: Current Loan Amount, dtype: object"
      ]
     },
     "execution_count": 27,
     "metadata": {},
     "output_type": "execute_result"
    }
   ],
   "source": [
    "data['Current Loan Amount'].describe().apply(\"{0:.0f}\".format)"
   ]
  },
  {
   "cell_type": "code",
   "execution_count": 28,
   "metadata": {
    "ExecuteTime": {
     "end_time": "2019-11-20T16:23:32.191092Z",
     "start_time": "2019-11-20T16:23:31.995851Z"
    }
   },
   "outputs": [
    {
     "data": {
      "text/plain": [
       "<matplotlib.axes._subplots.AxesSubplot at 0x1080a1590>"
      ]
     },
     "execution_count": 28,
     "metadata": {},
     "output_type": "execute_result"
    },
    {
     "data": {
      "image/png": "[encoded data removed]",
      "text/plain": [
       "<Figure size 432x288 with 1 Axes>"
      ]
     },
     "metadata": {
      "needs_background": "light"
     },
     "output_type": "display_data"
    }
   ],
   "source": [
    "data['Current Loan Amount'].hist()"
   ]
  },
  {
   "cell_type": "markdown",
   "metadata": {},
   "source": [
    "Явных выбросов не видно, пустых значений также нет"
   ]
  },
  {
   "cell_type": "markdown",
   "metadata": {},
   "source": [
    "#### Monthly Debt"
   ]
  },
  {
   "cell_type": "code",
   "execution_count": 29,
   "metadata": {
    "ExecuteTime": {
     "end_time": "2019-11-20T16:23:32.199847Z",
     "start_time": "2019-11-20T16:23:32.192619Z"
    }
   },
   "outputs": [
    {
     "data": {
      "text/plain": [
       "count      7500.000000\n",
       "mean      18314.454133\n",
       "std       11926.764673\n",
       "min           0.000000\n",
       "25%       10067.500000\n",
       "50%       16076.500000\n",
       "75%       23818.000000\n",
       "max      136679.000000\n",
       "Name: Monthly Debt, dtype: float64"
      ]
     },
     "execution_count": 29,
     "metadata": {},
     "output_type": "execute_result"
    }
   ],
   "source": [
    "data['Monthly Debt'].describe()"
   ]
  },
  {
   "cell_type": "code",
   "execution_count": 30,
   "metadata": {
    "ExecuteTime": {
     "end_time": "2019-11-20T16:23:32.373529Z",
     "start_time": "2019-11-20T16:23:32.201481Z"
    }
   },
   "outputs": [
    {
     "data": {
      "text/plain": [
       "<matplotlib.axes._subplots.AxesSubplot at 0x1a1d056250>"
      ]
     },
     "execution_count": 30,
     "metadata": {},
     "output_type": "execute_result"
    },
    {
     "data": {
      "image/png": "[encoded data removed]",
      "text/plain": [
       "<Figure size 432x288 with 1 Axes>"
      ]
     },
     "metadata": {
      "needs_background": "light"
     },
     "output_type": "display_data"
    }
   ],
   "source": [
    "data['Monthly Debt'].hist()"
   ]
  },
  {
   "cell_type": "markdown",
   "metadata": {},
   "source": [
    "Явных выбросов не видно, пустых значений также нет"
   ]
  },
  {
   "cell_type": "markdown",
   "metadata": {},
   "source": [
    "#### Credit Score"
   ]
  },
  {
   "cell_type": "code",
   "execution_count": 31,
   "metadata": {
    "ExecuteTime": {
     "end_time": "2019-11-20T16:23:32.381959Z",
     "start_time": "2019-11-20T16:23:32.375220Z"
    }
   },
   "outputs": [
    {
     "data": {
      "text/plain": [
       "count    5943.000000\n",
       "mean     1151.087498\n",
       "std      1604.451418\n",
       "min       585.000000\n",
       "25%       711.000000\n",
       "50%       731.000000\n",
       "75%       743.000000\n",
       "max      7510.000000\n",
       "Name: Credit Score, dtype: float64"
      ]
     },
     "execution_count": 31,
     "metadata": {},
     "output_type": "execute_result"
    }
   ],
   "source": [
    "data['Credit Score'].describe()"
   ]
  },
  {
   "cell_type": "code",
   "execution_count": 32,
   "metadata": {
    "ExecuteTime": {
     "end_time": "2019-11-20T16:23:32.388016Z",
     "start_time": "2019-11-20T16:23:32.383279Z"
    }
   },
   "outputs": [
    {
     "data": {
      "text/plain": [
       "0.2076"
      ]
     },
     "execution_count": 32,
     "metadata": {},
     "output_type": "execute_result"
    }
   ],
   "source": [
    "data['Credit Score'].isna().sum() / 7500"
   ]
  },
  {
   "cell_type": "markdown",
   "metadata": {},
   "source": [
    "Налицо прослеживается тенденция - некоторые значения завышены ровно в 10 раз. Исправим это"
   ]
  },
  {
   "cell_type": "code",
   "execution_count": 33,
   "metadata": {
    "ExecuteTime": {
     "end_time": "2019-11-20T16:23:32.395335Z",
     "start_time": "2019-11-20T16:23:32.389451Z"
    }
   },
   "outputs": [],
   "source": [
    "data['Credit Score'] = data['Credit Score'].apply(lambda x: x / 10 if x // 1000 > 0 else x)"
   ]
  },
  {
   "cell_type": "code",
   "execution_count": 34,
   "metadata": {
    "ExecuteTime": {
     "end_time": "2019-11-20T16:23:32.559588Z",
     "start_time": "2019-11-20T16:23:32.396656Z"
    }
   },
   "outputs": [
    {
     "data": {
      "text/plain": [
       "<matplotlib.axes._subplots.AxesSubplot at 0x1a1d0fa7d0>"
      ]
     },
     "execution_count": 34,
     "metadata": {},
     "output_type": "execute_result"
    },
    {
     "data": {
      "image/png": "[encoded data removed]",
      "text/plain": [
       "<Figure size 432x288 with 1 Axes>"
      ]
     },
     "metadata": {
      "needs_background": "light"
     },
     "output_type": "display_data"
    }
   ],
   "source": [
    "data['Credit Score'].hist()"
   ]
  },
  {
   "cell_type": "code",
   "execution_count": 35,
   "metadata": {
    "ExecuteTime": {
     "end_time": "2019-11-20T16:23:32.571607Z",
     "start_time": "2019-11-20T16:23:32.561249Z"
    }
   },
   "outputs": [
    {
     "data": {
      "text/plain": [
       "Annual Income                0.028571\n",
       "Tax Liens                   -0.016478\n",
       "Number of Open Accounts     -0.034756\n",
       "Years of Credit History      0.068364\n",
       "Maximum Open Credit          0.028209\n",
       "Number of Credit Problems   -0.055090\n",
       "Bankruptcies                -0.041420\n",
       "Current Loan Amount          0.149205\n",
       "Current Credit Balance      -0.005639\n",
       "Monthly Debt                -0.070542\n",
       "Credit Score                 1.000000\n",
       "Credit Default              -0.207155\n",
       "Num Years in current job    -0.013058\n",
       "Name: Credit Score, dtype: float64"
      ]
     },
     "execution_count": 35,
     "metadata": {},
     "output_type": "execute_result"
    }
   ],
   "source": [
    "data.dropna().corr()['Credit Score']"
   ]
  },
  {
   "cell_type": "markdown",
   "metadata": {},
   "source": [
    "20% пустых значений - это много. В перспективе нужно попробовать предсказать это значение и лишь затем искать целевой класс.\n",
    "\n",
    "Но на данном этапе заполним средним"
   ]
  },
  {
   "cell_type": "code",
   "execution_count": 30,
   "metadata": {
    "ExecuteTime": {
     "end_time": "2019-11-20T13:16:43.542269Z",
     "start_time": "2019-11-20T13:16:43.538428Z"
    },
    "deletable": false,
    "editable": false,
    "run_control": {
     "frozen": true
    }
   },
   "outputs": [],
   "source": [
    "data['Credit Score'].fillna(data['Credit Score'].mean(), inplace=True)"
   ]
  },
  {
   "cell_type": "code",
   "execution_count": 36,
   "metadata": {
    "ExecuteTime": {
     "end_time": "2019-11-20T16:23:32.575961Z",
     "start_time": "2019-11-20T16:23:32.572896Z"
    }
   },
   "outputs": [],
   "source": [
    "data['Credit Score'].fillna(0, inplace=True)"
   ]
  },
  {
   "cell_type": "markdown",
   "metadata": {
    "ExecuteTime": {
     "end_time": "2019-11-19T14:25:13.481306Z",
     "start_time": "2019-11-19T14:25:13.478826Z"
    }
   },
   "source": [
    "## Преобразование категориальных переменный в булевые"
   ]
  },
  {
   "cell_type": "code",
   "execution_count": 37,
   "metadata": {
    "ExecuteTime": {
     "end_time": "2019-11-20T16:23:32.597300Z",
     "start_time": "2019-11-20T16:23:32.578920Z"
    }
   },
   "outputs": [],
   "source": [
    "ds = pd.get_dummies(data)"
   ]
  },
  {
   "cell_type": "markdown",
   "metadata": {},
   "source": [
    "Переименуем признаки - заменим пробелы и отдельные символы"
   ]
  },
  {
   "cell_type": "code",
   "execution_count": 38,
   "metadata": {
    "ExecuteTime": {
     "end_time": "2019-11-20T16:23:32.604770Z",
     "start_time": "2019-11-20T16:23:32.599209Z"
    }
   },
   "outputs": [],
   "source": [
    "ds.rename(lambda x: x.replace(' ','_').replace('+','more').replace('<','less'), axis='columns', inplace=True)"
   ]
  },
  {
   "cell_type": "markdown",
   "metadata": {},
   "source": [
    "## Обучение и проверка"
   ]
  },
  {
   "cell_type": "code",
   "execution_count": 39,
   "metadata": {
    "ExecuteTime": {
     "end_time": "2019-11-20T16:23:33.218623Z",
     "start_time": "2019-11-20T16:23:32.606171Z"
    }
   },
   "outputs": [],
   "source": [
    "from sklearn.model_selection import GridSearchCV, train_test_split, cross_val_score, StratifiedShuffleSplit\n",
    "from sklearn.metrics import accuracy_score, auc, roc_curve\n",
    "\n",
    "import os\n",
    "os.environ['KMP_DUPLICATE_LIB_OK']='True'\n",
    "\n",
    "from xgboost import XGBClassifier\n",
    "from catboost import CatBoostClassifier"
   ]
  },
  {
   "cell_type": "code",
   "execution_count": 40,
   "metadata": {
    "ExecuteTime": {
     "end_time": "2019-11-20T16:23:33.225268Z",
     "start_time": "2019-11-20T16:23:33.220931Z"
    }
   },
   "outputs": [],
   "source": [
    "best_model = CatBoostClassifier()"
   ]
  },
  {
   "cell_type": "code",
   "execution_count": 41,
   "metadata": {
    "ExecuteTime": {
     "end_time": "2019-11-20T16:23:33.231307Z",
     "start_time": "2019-11-20T16:23:33.227079Z"
    }
   },
   "outputs": [],
   "source": [
    "xgbc = XGBClassifier(colsample_bytree=0.5, gamma=0.0, \n",
    "                     learning_rate=0.005, max_depth=7, \n",
    "                     min_child_weight=0.5, n_estimators=58,\n",
    "                     reg_alpha=0.9, reg_lambda=0.99,\n",
    "                     subsample=0.99, seed=42, silent=1, n_jobs=-1,\n",
    "                     random_state=42)"
   ]
  },
  {
   "cell_type": "code",
   "execution_count": 42,
   "metadata": {
    "ExecuteTime": {
     "end_time": "2019-11-20T16:23:33.236405Z",
     "start_time": "2019-11-20T16:23:33.233583Z"
    }
   },
   "outputs": [],
   "source": [
    "# Зададим распределение \n",
    "sss = StratifiedShuffleSplit(n_splits=10, random_state=42)"
   ]
  },
  {
   "cell_type": "code",
   "execution_count": 43,
   "metadata": {
    "ExecuteTime": {
     "end_time": "2019-11-20T16:23:33.241819Z",
     "start_time": "2019-11-20T16:23:33.237996Z"
    }
   },
   "outputs": [],
   "source": [
    "parametrs = [{'n_estimators': [1000, 1200, 1400],\n",
    "              \n",
    "              'max_depth': [5, 7, 8, 9]}]\n",
    "\n",
    "cbst = GridSearchCV(estimator=best_model,\n",
    "                    param_grid=parametrs,\n",
    "                   n_jobs=-1, \n",
    "                   cv=sss, \n",
    "                   scoring='f1_weighted')"
   ]
  },
  {
   "cell_type": "code",
   "execution_count": 44,
   "metadata": {
    "ExecuteTime": {
     "end_time": "2019-11-20T16:23:33.247413Z",
     "start_time": "2019-11-20T16:23:33.243511Z"
    }
   },
   "outputs": [],
   "source": [
    "parametrs = [{'n_estimators': [1200, 1400, 1500],\n",
    "              'max_features': [\"auto\"],\n",
    "              'max_depth': [4, 5, 7]}]\n",
    "\n",
    "clf = GridSearchCV(estimator=xgbc, \n",
    "                   param_grid=parametrs, \n",
    "                   n_jobs=-1, \n",
    "                   cv=sss, \n",
    "                   scoring='f1_weighted')"
   ]
  },
  {
   "cell_type": "code",
   "execution_count": 45,
   "metadata": {
    "ExecuteTime": {
     "end_time": "2019-11-20T16:23:33.254149Z",
     "start_time": "2019-11-20T16:23:33.249051Z"
    }
   },
   "outputs": [],
   "source": [
    "X = ds.drop(columns=['Credit_Default'])\n",
    "y = ds['Credit_Default']"
   ]
  },
  {
   "cell_type": "code",
   "execution_count": 122,
   "metadata": {
    "ExecuteTime": {
     "end_time": "2019-11-20T15:08:16.041082Z",
     "start_time": "2019-11-20T15:08:16.005708Z"
    },
    "deletable": false,
    "editable": false,
    "run_control": {
     "frozen": true
    }
   },
   "outputs": [],
   "source": [
    "cat_features = ['Home Ownership', 'Years in current job', 'Purpose', 'Term']\n",
    "\n",
    "data = pd.read_csv('course_project_train.csv')\n",
    "\n",
    "for i in cat_features:\n",
    "    data[i] = pd.Categorical(data[i])\n",
    "\n",
    "X = data.drop(columns=['Credit Default'])\n",
    "y = data['Credit Default']\n",
    "\n",
    "parametrs = [{'n_estimators': [1000, 1200, 1400],\n",
    "              'cat_features': [cat_features],\n",
    "              'max_depth': [5, 7, 8, 9]}]\n",
    "\n",
    "cbst = GridSearchCV(estimator=best_model,\n",
    "                    param_grid=parametrs,\n",
    "                   n_jobs=-1, \n",
    "                   cv=sss, \n",
    "                   scoring='f1')"
   ]
  },
  {
   "cell_type": "code",
   "execution_count": 103,
   "metadata": {
    "ExecuteTime": {
     "end_time": "2019-11-20T14:46:54.368105Z",
     "start_time": "2019-11-20T14:46:54.360724Z"
    },
    "deletable": false,
    "editable": false,
    "run_control": {
     "frozen": true
    }
   },
   "outputs": [
    {
     "data": {
      "text/plain": [
       "[debt consolidation, debt consolidation, debt consolidation, debt consolidation, debt consolidation, ..., other, debt consolidation, buy a car, debt consolidation, debt consolidation]\n",
       "Length: 7500\n",
       "Categories (15, object): [business loan, buy a car, buy house, debt consolidation, ..., small business, take a trip, vacation, wedding]"
      ]
     },
     "execution_count": 103,
     "metadata": {},
     "output_type": "execute_result"
    }
   ],
   "source": [
    "pd.Categorical(data['Purpose'])"
   ]
  },
  {
   "cell_type": "code",
   "execution_count": 91,
   "metadata": {
    "ExecuteTime": {
     "end_time": "2019-11-20T14:18:33.777349Z",
     "start_time": "2019-11-20T14:18:33.770768Z"
    },
    "deletable": false,
    "editable": false,
    "run_control": {
     "frozen": true
    }
   },
   "outputs": [
    {
     "name": "stdout",
     "output_type": "stream",
     "text": [
      "{'max_depth': 7, 'n_estimators': 1200} 0.6885186836053994 \n",
      "\n"
     ]
    }
   ],
   "source": [
    "print(cbst.best_params_, cbst.best_score_, '\\n')"
   ]
  },
  {
   "cell_type": "code",
   "execution_count": 181,
   "metadata": {
    "ExecuteTime": {
     "end_time": "2019-11-20T08:04:48.127569Z",
     "start_time": "2019-11-20T08:04:48.123085Z"
    },
    "deletable": false,
    "editable": false,
    "run_control": {
     "frozen": true
    }
   },
   "outputs": [
    {
     "data": {
      "text/plain": [
       "Index(['Annual_Income', 'Tax_Liens', 'Number_of_Open_Accounts',\n",
       "       'Years_of_Credit_History', 'Maximum_Open_Credit',\n",
       "       'Number_of_Credit_Problems', 'Bankruptcies', 'Current_Loan_Amount',\n",
       "       'Current_Credit_Balance', 'Monthly_Debt', 'Credit_Score',\n",
       "       'Home_Ownership_Home_Mortgage', 'Home_Ownership_Own_Home',\n",
       "       'Home_Ownership_Rent', 'Years_in_current_job_1_year',\n",
       "       'Years_in_current_job_10more_years', 'Years_in_current_job_2_years',\n",
       "       'Years_in_current_job_3_years', 'Years_in_current_job_4_years',\n",
       "       'Years_in_current_job_5_years', 'Years_in_current_job_6_years',\n",
       "       'Years_in_current_job_7_years', 'Years_in_current_job_8_years',\n",
       "       'Years_in_current_job_9_years', 'Years_in_current_job_less_1_year',\n",
       "       'Purpose_business_loan', 'Purpose_buy_a_car', 'Purpose_buy_house',\n",
       "       'Purpose_debt_consolidation', 'Purpose_educational_expenses',\n",
       "       'Purpose_home_improvements', 'Purpose_major_purchase',\n",
       "       'Purpose_medical_bills', 'Purpose_moving', 'Purpose_other',\n",
       "       'Purpose_renewable_energy', 'Purpose_small_business',\n",
       "       'Purpose_take_a_trip', 'Purpose_vacation', 'Purpose_wedding',\n",
       "       'Term_Long_Term', 'Term_Short_Term'],\n",
       "      dtype='object')"
      ]
     },
     "execution_count": 181,
     "metadata": {},
     "output_type": "execute_result"
    }
   ],
   "source": [
    "X.columns"
   ]
  },
  {
   "cell_type": "code",
   "execution_count": 159,
   "metadata": {
    "ExecuteTime": {
     "end_time": "2019-11-20T15:51:11.712195Z",
     "start_time": "2019-11-20T15:51:11.707712Z"
    },
    "deletable": false,
    "editable": false,
    "run_control": {
     "frozen": true
    }
   },
   "outputs": [
    {
     "data": {
      "text/plain": [
       "(7500, 42)"
      ]
     },
     "execution_count": 159,
     "metadata": {},
     "output_type": "execute_result"
    }
   ],
   "source": [
    "X.shape"
   ]
  },
  {
   "cell_type": "code",
   "execution_count": 160,
   "metadata": {
    "ExecuteTime": {
     "end_time": "2019-11-20T15:51:12.251987Z",
     "start_time": "2019-11-20T15:51:12.239506Z"
    },
    "deletable": false,
    "editable": false,
    "run_control": {
     "frozen": true
    },
    "scrolled": true
   },
   "outputs": [
    {
     "name": "stdout",
     "output_type": "stream",
     "text": [
      "<class 'pandas.core.frame.DataFrame'>\n",
      "RangeIndex: 7500 entries, 0 to 7499\n",
      "Data columns (total 42 columns):\n",
      "Annual_Income                        5943 non-null float64\n",
      "Tax_Liens                            7500 non-null float64\n",
      "Number_of_Open_Accounts              7500 non-null float64\n",
      "Years_of_Credit_History              7500 non-null float64\n",
      "Maximum_Open_Credit                  7500 non-null float64\n",
      "Number_of_Credit_Problems            7500 non-null float64\n",
      "Bankruptcies                         7500 non-null float64\n",
      "Current_Loan_Amount                  7500 non-null float64\n",
      "Current_Credit_Balance               7500 non-null float64\n",
      "Monthly_Debt                         7500 non-null float64\n",
      "Credit_Score                         7500 non-null float64\n",
      "Home_Ownership_Home_Mortgage         7500 non-null uint8\n",
      "Home_Ownership_Own_Home              7500 non-null uint8\n",
      "Home_Ownership_Rent                  7500 non-null uint8\n",
      "Years_in_current_job_1_year          7500 non-null uint8\n",
      "Years_in_current_job_10more_years    7500 non-null uint8\n",
      "Years_in_current_job_2_years         7500 non-null uint8\n",
      "Years_in_current_job_3_years         7500 non-null uint8\n",
      "Years_in_current_job_4_years         7500 non-null uint8\n",
      "Years_in_current_job_5_years         7500 non-null uint8\n",
      "Years_in_current_job_6_years         7500 non-null uint8\n",
      "Years_in_current_job_7_years         7500 non-null uint8\n",
      "Years_in_current_job_8_years         7500 non-null uint8\n",
      "Years_in_current_job_9_years         7500 non-null uint8\n",
      "Years_in_current_job_less_1_year     7500 non-null uint8\n",
      "Purpose_business_loan                7500 non-null uint8\n",
      "Purpose_buy_a_car                    7500 non-null uint8\n",
      "Purpose_buy_house                    7500 non-null uint8\n",
      "Purpose_debt_consolidation           7500 non-null uint8\n",
      "Purpose_educational_expenses         7500 non-null uint8\n",
      "Purpose_home_improvements            7500 non-null uint8\n",
      "Purpose_major_purchase               7500 non-null uint8\n",
      "Purpose_medical_bills                7500 non-null uint8\n",
      "Purpose_moving                       7500 non-null uint8\n",
      "Purpose_other                        7500 non-null uint8\n",
      "Purpose_renewable_energy             7500 non-null uint8\n",
      "Purpose_small_business               7500 non-null uint8\n",
      "Purpose_take_a_trip                  7500 non-null uint8\n",
      "Purpose_vacation                     7500 non-null uint8\n",
      "Purpose_wedding                      7500 non-null uint8\n",
      "Term_Long_Term                       7500 non-null uint8\n",
      "Term_Short_Term                      7500 non-null uint8\n",
      "dtypes: float64(11), uint8(31)\n",
      "memory usage: 871.7 KB\n"
     ]
    }
   ],
   "source": [
    "X.info()"
   ]
  },
  {
   "cell_type": "code",
   "execution_count": 46,
   "metadata": {
    "ExecuteTime": {
     "end_time": "2019-11-20T16:23:33.260812Z",
     "start_time": "2019-11-20T16:23:33.255978Z"
    }
   },
   "outputs": [
    {
     "data": {
      "text/plain": [
       "Index(['Annual_Income', 'Tax_Liens', 'Number_of_Open_Accounts',\n",
       "       'Years_of_Credit_History', 'Maximum_Open_Credit',\n",
       "       'Number_of_Credit_Problems', 'Bankruptcies', 'Current_Loan_Amount',\n",
       "       'Current_Credit_Balance', 'Monthly_Debt', 'Credit_Score',\n",
       "       'Num_Years_in_current_job', 'Home_Ownership_Home_Mortgage',\n",
       "       'Home_Ownership_Own_Home', 'Home_Ownership_Rent',\n",
       "       'Purpose_business_loan', 'Purpose_buy_a_car', 'Purpose_buy_house',\n",
       "       'Purpose_debt_consolidation', 'Purpose_educational_expenses',\n",
       "       'Purpose_home_improvements', 'Purpose_major_purchase',\n",
       "       'Purpose_medical_bills', 'Purpose_moving', 'Purpose_other',\n",
       "       'Purpose_renewable_energy', 'Purpose_small_business',\n",
       "       'Purpose_take_a_trip', 'Purpose_vacation', 'Purpose_wedding',\n",
       "       'Term_Long_Term', 'Term_Short_Term'],\n",
       "      dtype='object')"
      ]
     },
     "execution_count": 46,
     "metadata": {},
     "output_type": "execute_result"
    }
   ],
   "source": [
    "X.columns"
   ]
  },
  {
   "cell_type": "code",
   "execution_count": 47,
   "metadata": {
    "ExecuteTime": {
     "end_time": "2019-11-20T16:30:50.624460Z",
     "start_time": "2019-11-20T16:23:45.878317Z"
    }
   },
   "outputs": [
    {
     "data": {
      "text/plain": [
       "GridSearchCV(cv=StratifiedShuffleSplit(n_splits=10, random_state=42, test_size=None,\n",
       "            train_size=None),\n",
       "             error_score='raise-deprecating',\n",
       "             estimator=XGBClassifier(base_score=0.5, booster='gbtree',\n",
       "                                     colsample_bylevel=1, colsample_bynode=1,\n",
       "                                     colsample_bytree=0.5, gamma=0.0,\n",
       "                                     learning_rate=0.005, max_delta_step=0,\n",
       "                                     max_depth=7, min_child_weight=0.5,\n",
       "                                     missing=None, n_estimato...\n",
       "                                     nthread=None, objective='binary:logistic',\n",
       "                                     random_state=42, reg_alpha=0.9,\n",
       "                                     reg_lambda=0.99, scale_pos_weight=1,\n",
       "                                     seed=42, silent=1, subsample=0.99,\n",
       "                                     verbosity=1),\n",
       "             iid='warn', n_jobs=-1,\n",
       "             param_grid=[{'max_depth': [4, 5, 7], 'max_features': ['auto'],\n",
       "                          'n_estimators': [1200, 1400, 1500]}],\n",
       "             pre_dispatch='2*n_jobs', refit=True, return_train_score=False,\n",
       "             scoring='f1_weighted', verbose=0)"
      ]
     },
     "execution_count": 47,
     "metadata": {},
     "output_type": "execute_result"
    }
   ],
   "source": [
    "clf.fit(X, y)"
   ]
  },
  {
   "cell_type": "code",
   "execution_count": 48,
   "metadata": {
    "ExecuteTime": {
     "end_time": "2019-11-20T16:30:50.631902Z",
     "start_time": "2019-11-20T16:30:50.626951Z"
    }
   },
   "outputs": [
    {
     "name": "stdout",
     "output_type": "stream",
     "text": [
      "{'max_depth': 5, 'max_features': 'auto', 'n_estimators': 1400} 0.6752195319044757 \n",
      "\n"
     ]
    }
   ],
   "source": [
    "print(clf.best_params_, clf.best_score_, '\\n')"
   ]
  },
  {
   "cell_type": "code",
   "execution_count": 162,
   "metadata": {
    "ExecuteTime": {
     "end_time": "2019-11-20T16:04:14.842263Z",
     "start_time": "2019-11-20T16:04:14.835043Z"
    },
    "deletable": false,
    "editable": false,
    "run_control": {
     "frozen": true
    }
   },
   "outputs": [
    {
     "name": "stdout",
     "output_type": "stream",
     "text": [
      "{'max_depth': 5, 'max_features': 'auto', 'n_estimators': 1400} 0.6727598709325842 \n",
      "\n"
     ]
    }
   ],
   "source": [
    "print(clf.best_params_, clf.best_score_, '\\n')"
   ]
  },
  {
   "cell_type": "code",
   "execution_count": 164,
   "metadata": {
    "ExecuteTime": {
     "end_time": "2019-11-20T16:05:47.396365Z",
     "start_time": "2019-11-20T16:05:47.387597Z"
    }
   },
   "outputs": [
    {
     "data": {
      "text/plain": [
       "0       749.0\n",
       "1       737.0\n",
       "2       742.0\n",
       "3       694.0\n",
       "4       719.0\n",
       "        ...  \n",
       "7495    697.0\n",
       "7496    741.0\n",
       "7497    748.0\n",
       "7498      0.0\n",
       "7499      0.0\n",
       "Name: Credit_Score, Length: 7500, dtype: float64"
      ]
     },
     "execution_count": 164,
     "metadata": {},
     "output_type": "execute_result"
    }
   ],
   "source": [
    "X['Credit_Score']"
   ]
  },
  {
   "cell_type": "code",
   "execution_count": 49,
   "metadata": {
    "ExecuteTime": {
     "end_time": "2019-11-20T16:31:33.304893Z",
     "start_time": "2019-11-20T16:31:33.288676Z"
    }
   },
   "outputs": [],
   "source": [
    "test = pd.read_csv('course_project_test.csv')"
   ]
  },
  {
   "cell_type": "code",
   "execution_count": 50,
   "metadata": {
    "ExecuteTime": {
     "end_time": "2019-11-20T16:31:40.701378Z",
     "start_time": "2019-11-20T16:31:40.692207Z"
    }
   },
   "outputs": [],
   "source": [
    "def prapair_dataset(data):\n",
    "    data.loc[data['Home Ownership'] == 'Have Mortgage', 'Home Ownership'] = 'Home Mortgage'\n",
    "    data['Years in current job'].fillna('10+ years', inplace=True)\n",
    "    data['Bankruptcies'].fillna(0, inplace=True)\n",
    "    \n",
    "    data.drop(columns=['Months since last delinquent'], inplace=True)\n",
    "    \n",
    "    data['Annual Income'].fillna(data['Annual Income'].mode()[0], inplace=True)\n",
    "    \n",
    "    mean_current_load_amount = data[data['Current Loan Amount'] < 99999999.0]['Current Loan Amount'].mean()\n",
    "#     data.loc[data['Current Loan Amount'] >= 99999999.0, 'Current Loan Amount'] = mean_current_load_amount\n",
    "    \n",
    "    data = convert_years(data)\n",
    "    \n",
    "    data['Credit Score'] = data['Credit Score'].apply(lambda x: x / 10 if x // 1000 > 0 else x)\n",
    "#     data['Credit Score'].fillna(data['Credit Score'].mean(), inplace=True)\n",
    "    data['Credit Score'].fillna(0, inplace=True)\n",
    "    ds = pd.get_dummies(data)\n",
    "    ds.rename(lambda x: x.replace(' ','_').replace('+','more').replace('<','less'), axis='columns', inplace=True)\n",
    "    return ds"
   ]
  },
  {
   "cell_type": "code",
   "execution_count": 51,
   "metadata": {
    "ExecuteTime": {
     "end_time": "2019-11-20T16:31:43.582801Z",
     "start_time": "2019-11-20T16:31:43.533759Z"
    }
   },
   "outputs": [],
   "source": [
    "test_prepaired = prapair_dataset(test)"
   ]
  },
  {
   "cell_type": "code",
   "execution_count": 54,
   "metadata": {
    "ExecuteTime": {
     "end_time": "2019-11-20T16:33:18.811589Z",
     "start_time": "2019-11-20T16:33:18.807513Z"
    }
   },
   "outputs": [],
   "source": [
    "test_prepaired['Purpose_renewable_energy'] = 0"
   ]
  },
  {
   "cell_type": "code",
   "execution_count": 55,
   "metadata": {
    "ExecuteTime": {
     "end_time": "2019-11-20T16:33:25.537005Z",
     "start_time": "2019-11-20T16:33:25.532368Z"
    }
   },
   "outputs": [],
   "source": [
    "answer = pd.DataFrame(range(7500, 10000), columns=['Id'])"
   ]
  },
  {
   "cell_type": "code",
   "execution_count": 56,
   "metadata": {
    "ExecuteTime": {
     "end_time": "2019-11-20T16:33:26.324313Z",
     "start_time": "2019-11-20T16:33:26.273420Z"
    }
   },
   "outputs": [],
   "source": [
    "answer['Credit Default'] = clf.predict(test_prepaired[X.columns]).astype('int')"
   ]
  },
  {
   "cell_type": "code",
   "execution_count": 57,
   "metadata": {
    "ExecuteTime": {
     "end_time": "2019-11-20T16:33:27.525431Z",
     "start_time": "2019-11-20T16:33:27.512986Z"
    }
   },
   "outputs": [
    {
     "data": {
      "text/html": [
       "<div>\n",
       "<style scoped>\n",
       "    .dataframe tbody tr th:only-of-type {\n",
       "        vertical-align: middle;\n",
       "    }\n",
       "\n",
       "    .dataframe tbody tr th {\n",
       "        vertical-align: top;\n",
       "    }\n",
       "\n",
       "    .dataframe thead th {\n",
       "        text-align: right;\n",
       "    }\n",
       "</style>\n",
       "<table border=\"1\" class=\"dataframe\">\n",
       "  <thead>\n",
       "    <tr style=\"text-align: right;\">\n",
       "      <th></th>\n",
       "      <th>Id</th>\n",
       "      <th>Credit Default</th>\n",
       "    </tr>\n",
       "  </thead>\n",
       "  <tbody>\n",
       "    <tr>\n",
       "      <td>0</td>\n",
       "      <td>7500</td>\n",
       "      <td>0</td>\n",
       "    </tr>\n",
       "    <tr>\n",
       "      <td>1</td>\n",
       "      <td>7501</td>\n",
       "      <td>0</td>\n",
       "    </tr>\n",
       "    <tr>\n",
       "      <td>2</td>\n",
       "      <td>7502</td>\n",
       "      <td>0</td>\n",
       "    </tr>\n",
       "    <tr>\n",
       "      <td>3</td>\n",
       "      <td>7503</td>\n",
       "      <td>0</td>\n",
       "    </tr>\n",
       "    <tr>\n",
       "      <td>4</td>\n",
       "      <td>7504</td>\n",
       "      <td>0</td>\n",
       "    </tr>\n",
       "    <tr>\n",
       "      <td>...</td>\n",
       "      <td>...</td>\n",
       "      <td>...</td>\n",
       "    </tr>\n",
       "    <tr>\n",
       "      <td>2495</td>\n",
       "      <td>9995</td>\n",
       "      <td>0</td>\n",
       "    </tr>\n",
       "    <tr>\n",
       "      <td>2496</td>\n",
       "      <td>9996</td>\n",
       "      <td>0</td>\n",
       "    </tr>\n",
       "    <tr>\n",
       "      <td>2497</td>\n",
       "      <td>9997</td>\n",
       "      <td>0</td>\n",
       "    </tr>\n",
       "    <tr>\n",
       "      <td>2498</td>\n",
       "      <td>9998</td>\n",
       "      <td>0</td>\n",
       "    </tr>\n",
       "    <tr>\n",
       "      <td>2499</td>\n",
       "      <td>9999</td>\n",
       "      <td>0</td>\n",
       "    </tr>\n",
       "  </tbody>\n",
       "</table>\n",
       "<p>2500 rows × 2 columns</p>\n",
       "</div>"
      ],
      "text/plain": [
       "        Id  Credit Default\n",
       "0     7500               0\n",
       "1     7501               0\n",
       "2     7502               0\n",
       "3     7503               0\n",
       "4     7504               0\n",
       "...    ...             ...\n",
       "2495  9995               0\n",
       "2496  9996               0\n",
       "2497  9997               0\n",
       "2498  9998               0\n",
       "2499  9999               0\n",
       "\n",
       "[2500 rows x 2 columns]"
      ]
     },
     "execution_count": 57,
     "metadata": {},
     "output_type": "execute_result"
    }
   ],
   "source": [
    "answer"
   ]
  },
  {
   "cell_type": "code",
   "execution_count": 58,
   "metadata": {
    "ExecuteTime": {
     "end_time": "2019-11-20T16:33:29.926182Z",
     "start_time": "2019-11-20T16:33:29.910298Z"
    }
   },
   "outputs": [],
   "source": [
    "answer.to_csv('DGusev_predictions.csv',index=None)"
   ]
  },
  {
   "cell_type": "code",
   "execution_count": null,
   "metadata": {},
   "outputs": [],
   "source": []
  }
 ],
 "metadata": {
  "kernelspec": {
   "display_name": "Python 3",
   "language": "python",
   "name": "python3"
  },
  "language_info": {
   "codemirror_mode": {
    "name": "ipython",
    "version": 3
   },
   "file_extension": ".py",
   "mimetype": "text/x-python",
   "name": "python",
   "nbconvert_exporter": "python",
   "pygments_lexer": "ipython3",
   "version": "3.7.4"
  },
  "toc": {
   "base_numbering": 1,
   "nav_menu": {},
   "number_sections": true,
   "sideBar": true,
   "skip_h1_title": false,
   "title_cell": "Table of Contents",
   "title_sidebar": "Contents",
   "toc_cell": false,
   "toc_position": {},
   "toc_section_display": true,
   "toc_window_display": false
  }
 },
 "nbformat": 4,
 "nbformat_minor": 2
}
